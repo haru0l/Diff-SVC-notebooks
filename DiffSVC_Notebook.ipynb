{
  "nbformat": 4,
  "nbformat_minor": 0,
  "metadata": {
    "colab": {
      "provenance": []
    },
    "kernelspec": {
      "name": "python3",
      "display_name": "Python 3"
    },
    "language_info": {
      "name": "python"
    },
    "gpuClass": "standard",
    "accelerator": "GPU"
  },
  "cells": [
    {
      "cell_type": "markdown",
      "source": [
        "Training notebook for [Diff-SVC](https://github.com/prophesier/diff-svc) originally made by [justinjohn-03](https://github.com/justinjohn0306)\n",
        " Modified by [奕晨](https://twitter.com/nekrothecorpse) of [Archivoice](https://github.com/archivoice) and currently maintained by [haru0l](https://twitter.com/mscoocoo2)\n",
        "\n",
        "This is the basic version of the notebook. This notebook assumes that you have READ the documentation and no support will be given.\n",
        "\n",
        "QOL improvements has been removed in this version due to a certain someone that won't credit the usage of the program."
      ],
      "metadata": {
        "id": "qI-wDbQDmSjx"
      }
    },
    {
      "cell_type": "markdown",
      "source": [
        "# Preparation"
      ],
      "metadata": {
        "id": "MGNHNSGcEFHj"
      }
    },
    {
      "cell_type": "code",
      "source": [
        "import os\n",
        "from IPython.display import clear_output\n",
        "\n",
        "!rm -rf sample_data\n",
        "!python -m pip install --upgrade pip wheel --quiet\n",
        "!pip uninstall gdown -y --quiet\n",
        "!pip install --pre torchtext==0.6.0 --no-deps --quiet\n",
        "\n",
        "#@markdown ###Model sample rate\n",
        "#@markdown Please choose if you want to train a 24kHz model or a 44.1kHz model.\n",
        "sample_rate = '44.1kHz' #@param [\"24kHz\", \"44.1kHz\"]\n",
        "\n",
        "print('Installing Diff-SVC')\n",
        "!git clone -q https://github.com/prophesier/diff-svc\n",
        "\n",
        "%cd \"diff-svc\"\n",
        "!pip install -r requirements_short.txt --quiet\n",
        "!pip install tensorboard<2.9,>=2.8 --quiet\n",
        "#!pip install --upgrade numpy==1.23.0 scipy==1.9.3 --quiet\n",
        "%reload_ext tensorboard\n",
        "\n",
        "%mkdir -p checkpoints\n",
        "\n",
        "hifigan_24k = \"https://github.com/haru0l/Diff-SVC-notebooks/releases/download/models_24khz/hifigan_24k.zip\"\n",
        "hifigan_44k = \"https://github.com/haru0l/Diff-SVC-notebooks/releases/download/start/hifigan_44k.zip\"\n",
        "checkpoints = \"https://github.com/haru0l/Diff-SVC-notebooks/releases/download/start/checkpoints.zip\"\n",
        "\n",
        "!wget {checkpoints}\n",
        "!unzip checkpoints.zip\n",
        "!rm checkpoints.zip\n",
        "\n",
        "if sample_rate == \"44.1kHz\":\n",
        "\t!wget {hifigan_44k} -q\n",
        "\t!unzip hifigan_44k.zip -d checkpoints\n",
        "\t!rm hifigan_44k.zip\n",
        "\tconfig_path = \"training/config_nsf.yaml\"\n",
        "else:\n",
        "\t!wget {hifigan_24k}\n",
        "\t!unzip hifigan_24k.zip\n",
        "\t!rm hifigan_24k.zip\n",
        "\tconfig_path = \"training/config.yaml\"\n",
        "clear_output()\n",
        "print('Done!')"
      ],
      "metadata": {
        "id": "IYxufeQ9EKuY",
        "cellView": "form"
      },
      "execution_count": null,
      "outputs": []
    },
    {
      "cell_type": "markdown",
      "source": [
        "You are now expected to extract the wavs into data/raw/(singer_name_here)"
      ],
      "metadata": {
        "id": "XTvZzqU-FSKI"
      }
    },
    {
      "cell_type": "markdown",
      "source": [
        "# Training"
      ],
      "metadata": {
        "id": "4s-RqXnR-UOa"
      }
    },
    {
      "cell_type": "code",
      "source": [
        "#@title #Pre-processing\n",
        "#@markdown This just converts your data into mel spectograms\n",
        "\n",
        "os.environ['PYTHONPATH']='.'\n",
        "!CUDA_VISIBLE_DEVICES=0 python preprocessing/binarize.py --config {config_path}"
      ],
      "metadata": {
        "cellView": "form",
        "id": "wsHTxKEO-ZwV"
      },
      "execution_count": null,
      "outputs": []
    },
    {
      "cell_type": "code",
      "source": [
        "#@title #Training\n",
        "#@markdown Trains your model.\n",
        "\n",
        "os.environ['PYTHONPATH']='.'\n",
        "!CUDA_VISIBLE_DEVICES=0 python run.py --config {config_path} --exp_name $singer_name --reset"
      ],
      "metadata": {
        "cellView": "form",
        "id": "NvlB1oCR_lxh"
      },
      "execution_count": null,
      "outputs": []
    }
  ]
}
